{
 "cells": [
  {
   "cell_type": "markdown",
   "id": "e20bbb6e-73e0-4994-bc92-ae80bffa12c8",
   "metadata": {},
   "source": [
    "# Panda's for tables and non-data parsing "
   ]
  },
  {
   "cell_type": "raw",
   "id": "ff87052c-8883-4495-82f5-89a0b304a8f3",
   "metadata": {},
   "source": [
    "Make text ITALIC: *Italic*\n",
    "Make text BOLD: **Bold**\n",
    "List item as a bullet: dash and space -\n",
    "List item as a number: Simple as number and dot 1.\n",
    "Indenting text: Greater than and space >\n",
    "Inline code span: Back quotation mark \" ` \"\n",
    "Block of code: Triple back quotation marks \" ``` \"\n",
    "Link a section: [Title of Section](#title-of-section)\n",
    "Hyperlink: [Text](URL)"
   ]
  },
  {
   "cell_type": "markdown",
   "id": "94b75c01-5860-4543-b6fc-0a37b6d3c742",
   "metadata": {},
   "source": [
    "https://stackabuse.com/reading-and-writing-html-tables-with-pandas/\n",
    "https://realpython.com/python-csv/"
   ]
  },
  {
   "cell_type": "markdown",
   "id": "60f46398-ea97-43ce-86be-80a951272c02",
   "metadata": {},
   "source": [
    "Using HTML, one of the standard languages in web development, we are going to look at the native `<table>` element. In this presentation, we are going to look at reading dataframes using pandas with HTML data from a URL and then from a file and then we are going to write a dataframes using HTML style."
   ]
  },
  {
   "cell_type": "markdown",
   "id": "1882f7c3-e983-4d8c-80fa-84b0f4522c3e",
   "metadata": {},
   "source": [
    "## Making a Table from a URL"
   ]
  },
  {
   "cell_type": "markdown",
   "id": "0065a81b-62d8-490f-b37e-a65b70c937fd",
   "metadata": {},
   "source": [
    "*    Title: Reading and Writing HTML Tables with Pandas\n",
    "*    Author: Naazneen Jatu\n",
    "*    Date: Last Updated: September 19th, 2021\n",
    "*    Code version: Python 3.x\n",
    "*    Availability: https://stackabuse.com/reading-and-writing-html-tables-with-pandas"
   ]
  },
  {
   "cell_type": "code",
   "execution_count": 1,
   "id": "8d22e6d8-ae31-4190-b5a8-1c1782cd130a",
   "metadata": {},
   "outputs": [],
   "source": [
    "# libraries\n",
    "\n",
    "import pandas as pd\n"
   ]
  },
  {
   "cell_type": "markdown",
   "id": "6cbe25dd-3f6a-4397-960c-e242a6a42c7d",
   "metadata": {},
   "source": [
    "In order to read the HTML `<table` element from a website and turn it into a dataframe in Pandas, we will need to use a familiar Pandas function to read the html URL. As we remember when working with [CSV files](https://realpython.com/python-csv/), they had functions `pd.read_csv()` and `pd.to_csv()`. In this case we will use `pd.read_html()` and `pd.to_html()` to manipulate our data frames."
   ]
  },
  {
   "cell_type": "markdown",
   "id": "00926d05-5d74-46bc-beea-56fca0fc1a50",
   "metadata": {},
   "source": [
    "The data used in the presentation today is the Defensive Stats per team for the 2021 season from [The National Football League](https://www.nfl.com/stats/team-stats/defense/passing/2021/reg/all)."
   ]
  },
  {
   "cell_type": "code",
   "execution_count": 16,
   "id": "e154347d-98c2-4a68-b494-157c9fc30879",
   "metadata": {},
   "outputs": [
    {
     "name": "stdout",
     "output_type": "stream",
     "text": [
      "Tables Recovered: 1\n",
      "                   Team  Att  Cmp  Cmp %  Yds/Att   Yds  TD  INT  1st  1st%  \\\n",
      "0  BuccaneersBuccaneers  680  445   65.4      6.0  4062  26   17  214  31.5   \n",
      "1          ChiefsChiefs  610  401   65.7      7.0  4273  27   15  209  34.3   \n",
      "2      ChargersChargers  559  357   63.9      6.7  3761  27   11  199  35.6   \n",
      "3      SteelersSteelers  563  355   63.1      6.5  3656  24   13  186  33.0   \n",
      "4            BillsBills  530  297   56.0      5.2  2771  12   19  138  26.0   \n",
      "\n",
      "   Sck  \n",
      "0   47  \n",
      "1   31  \n",
      "2   35  \n",
      "3   55  \n",
      "4   42  \n"
     ]
    }
   ],
   "source": [
    "# credit given above\n",
    "\n",
    "table = pd.read_html('https://www.nfl.com/stats/team-stats/defense/passing/2021/reg/all')\n",
    "print('Tables Recovered:', len(table)) # Confirm what we see with out output\n",
    "df = table[0] # This will save the first recovered table as df\n",
    "print(df.head()) # Prints the first five rows"
   ]
  },
  {
   "cell_type": "code",
   "execution_count": 3,
   "id": "ff6fdd9d-a209-4789-be38-944225bb8c32",
   "metadata": {},
   "outputs": [
    {
     "name": "stdout",
     "output_type": "stream",
     "text": [
      "                   Team  Att  Cmp  Cmp %  Yds/Att   Yds  TD  INT  1st  1st%  \\\n",
      "0  BuccaneersBuccaneers  680  445   65.4      6.0  4062  26   17  214  31.5   \n",
      "1          ChiefsChiefs  610  401   65.7      7.0  4273  27   15  209  34.3   \n",
      "2      ChargersChargers  559  357   63.9      6.7  3761  27   11  199  35.6   \n",
      "3      SteelersSteelers  563  355   63.1      6.5  3656  24   13  186  33.0   \n",
      "4            BillsBills  530  297   56.0      5.2  2771  12   19  138  26.0   \n",
      "5        CowboysCowboys  612  364   59.5      6.6  4049  24   26  191  31.2   \n",
      "6        RaidersRaiders  606  400   66.0      6.2  3789  29    6  202  33.3   \n",
      "7      DolphinsDolphins  608  373   61.4      6.4  3871  23   14  199  32.7   \n",
      "8          RavensRavens  621  397   63.9      7.6  4742  31    9  232  37.4   \n",
      "9              RamsRams  625  416   66.6      6.6  4109  17   19  214  34.2   \n",
      "\n",
      "   Sck  \n",
      "0   47  \n",
      "1   31  \n",
      "2   35  \n",
      "3   55  \n",
      "4   42  \n",
      "5   41  \n",
      "6   35  \n",
      "7   48  \n",
      "8   34  \n",
      "9   50  \n"
     ]
    }
   ],
   "source": [
    "print(df.head(10)) # This prints the first ten rows"
   ]
  },
  {
   "cell_type": "markdown",
   "id": "5c3cf000-00eb-43e3-8c44-0658d1896394",
   "metadata": {},
   "source": [
    "But we can replace this with any number that is equal to or less than our index of total rows. So if we ask Pandas to print more than the amount of rows, it will just print the number of rows in the table."
   ]
  },
  {
   "cell_type": "markdown",
   "id": "6027b2ec-6b02-452d-bdc3-383ce67ac9a3",
   "metadata": {},
   "source": [
    "https://www.nfl.com/stats/team-stats/defense/passing/2021/reg/all"
   ]
  },
  {
   "cell_type": "code",
   "execution_count": 4,
   "id": "9e36fa0e-f01f-4f90-81be-b14af3847fef",
   "metadata": {},
   "outputs": [],
   "source": [
    "# It is easy now export to a csv file to use in a project\n",
    "dfto_csv = df.to_csv('2021NFL_Defense.csv',encoding='utf-8', sep=',')"
   ]
  },
  {
   "cell_type": "markdown",
   "id": "0ad84ab6-2bd6-4492-a9b6-dc8f2c8e185e",
   "metadata": {},
   "source": [
    "## Making a Table from a HTML File"
   ]
  },
  {
   "cell_type": "markdown",
   "id": "b5ba5c18-a342-4749-afbe-de17bf8b98d5",
   "metadata": {},
   "source": [
    "In order to make a dataframe from an HTML file I am going to goto the Chrome inspect and copy the table elements and make it into a HTML file."
   ]
  },
  {
   "cell_type": "markdown",
   "id": "f002f82c-f1dc-41f1-881c-ca629c08a0f3",
   "metadata": {},
   "source": [
    "First we need download a python library to read the HTML, so we pip install [LXML](https://lxml.de/)"
   ]
  },
  {
   "cell_type": "code",
   "execution_count": 5,
   "id": "ee9d7aa2-b3e8-4682-bbd8-b45b6504599a",
   "metadata": {},
   "outputs": [
    {
     "name": "stdout",
     "output_type": "stream",
     "text": [
      "Defaulting to user installation because normal site-packages is not writeable\n",
      "Requirement already satisfied: lxml in /home/ubuntu/anaconda3/lib/python3.9/site-packages (4.8.0)\n"
     ]
    }
   ],
   "source": [
    "! pip install lxml"
   ]
  },
  {
   "cell_type": "markdown",
   "id": "5f93d82a-5ccc-431f-9db6-30bc38614ed0",
   "metadata": {},
   "source": [
    "Then we need to copy source code from the browsers 'inspect' in the developer tools and I am going to find the table element and copy it to VSCODE (my code-editor of choice) and going to save it as a html. You can make your own table in html using this [layout](https://www.w3schools.com/html/html_tables.asp)... TAKE NOTE OF THIS LINK."
   ]
  },
  {
   "cell_type": "code",
   "execution_count": 6,
   "id": "62bda022-9d78-47df-82b4-7c6cce56a721",
   "metadata": {},
   "outputs": [
    {
     "name": "stdout",
     "output_type": "stream",
     "text": [
      "Tables Recovered: 2\n",
      "             Team  Att  Cmp  Cmp %  Yds/Att   Yds  TD  INT  1st  1st%  Sck\n",
      "0           49ers  545  372   68.3      6.4  3510  25    9  180  33.0   48\n",
      "1           Bears  477  314   65.8      6.8  3257  31    8  170  35.6   49\n",
      "2         Bengals  626  420   67.1      6.7  4222  26   13  213  34.0   42\n",
      "3           Bills  530  297   56.0      5.2  2771  12   19  138  26.0   42\n",
      "4         Broncos  562  341   60.7      6.5  3652  22   13  192  34.2   36\n",
      "5          Browns  576  367   63.7      6.0  3439  29   13  184  31.9   43\n",
      "6      Buccaneers  680  445   65.4      6.0  4062  26   17  214  31.5   47\n",
      "7       Cardinals  561  367   65.4      6.5  3645  30   13  192  34.2   41\n",
      "8        Chargers  559  357   63.9      6.7  3761  27   11  199  35.6   35\n",
      "9          Chiefs  610  401   65.7      7.0  4273  27   15  209  34.3   31\n",
      "10          Colts  597  390   65.3      6.7  3980  32   19  213  35.7   33\n",
      "11        Cowboys  612  364   59.5      6.6  4049  24   26  191  31.2   41\n",
      "12       Dolphins  608  373   61.4      6.4  3871  23   14  199  32.7   48\n",
      "13         Eagles  589  409   69.4      6.4  3756  28   12  208  35.3   29\n",
      "14        Falcons  577  391   67.8      6.8  3952  31   12  214  37.1   18\n",
      "15  Football Team  597  400   67.0      7.3  4333  34   11  220  36.8   38\n",
      "16         Giants  611  402   65.8      6.3  3839  27   15  216  35.4   34\n",
      "17        Jaguars  543  377   69.4      7.1  3875  24    7  198  36.5   32\n",
      "18           Jets  587  401   68.3      7.5  4409  28    7  234  39.9   33\n",
      "19          Lions  544  359   66.0      7.6  4160  31   11  211  38.8   30\n",
      "20        Packers  603  379   62.8      6.2  3724  31   18  194  32.2   39\n",
      "21       Panthers  515  337   65.4      6.3  3266  26    9  170  33.0   39\n",
      "22       Patriots  538  319   59.3      5.9  3181  21   23  176  32.7   36\n",
      "23        Raiders  606  400   66.0      6.2  3789  29    6  202  33.3   35\n",
      "24           Rams  625  416   66.6      6.6  4109  17   19  214  34.2   50\n",
      "25         Ravens  621  397   63.9      7.6  4742  31    9  232  37.4   34\n",
      "26         Saints  592  369   62.3      6.4  3821  20   18  185  31.2   46\n",
      "27       Seahawks  658  443   67.3      6.9  4513  24   11  240  36.5   34\n",
      "28       Steelers  563  355   63.1      6.5  3656  24   13  186  33.0   55\n",
      "29         Texans  546  363   66.5      7.5  4117  27   17  218  39.9   32\n",
      "30         Titans  628  395   62.9      6.6  4169  24   16  204  32.5   43\n",
      "31        Vikings  626  401   64.1      6.9  4300  29   16  224  35.8   51\n"
     ]
    }
   ],
   "source": [
    "table2 = pd.read_html('2021NFL_Defense.html')\n",
    "print('Tables Recovered:', len(table2)) # Confirm what we see with out output\n",
    "df_file = table2[0] # This will save the first recovered table as df\n",
    "print(df_file.head(32)) # Prints the first five rows"
   ]
  },
  {
   "cell_type": "markdown",
   "id": "e94702d7-6862-40a8-8c0f-35df0106f270",
   "metadata": {
    "tags": []
   },
   "source": [
    "As you see above the amount of tables recovered is two compared to one in the first one. Due to the html element being embedded with a lot of source code for NFL teams logos, as seen if you click on the html file that is attached. If you wanted to dig through the source code and get rid of all the fancy CSS and formatting in the source code from the site then you an dig threw it and you'd just get the basic table."
   ]
  },
  {
   "cell_type": "markdown",
   "id": "353a44bf-fbd4-447d-a4a2-30f2957e4ad7",
   "metadata": {
    "tags": []
   },
   "source": [
    "### Practice One"
   ]
  },
  {
   "cell_type": "markdown",
   "id": "f9ab0e3c-a45e-4d8b-a0ad-1804f0c9f6f1",
   "metadata": {
    "tags": []
   },
   "source": [
    "Since we just made this HTML table from a HTML file and converted it to a dataframe in Pandas, I am going to need your help in saving it as a CSV."
   ]
  },
  {
   "cell_type": "code",
   "execution_count": 7,
   "id": "ff658ae3-0d70-49fb-b999-4f58ed6cb462",
   "metadata": {
    "tags": []
   },
   "outputs": [],
   "source": [
    "df_filecsv= df.to_csv('HTML2021NFL_Defense.csv',encoding='utf-8', sep=',')  # solution"
   ]
  },
  {
   "cell_type": "markdown",
   "id": "d98fbcc0-2eb0-406b-a42f-3c0e0e29bae8",
   "metadata": {
    "tags": []
   },
   "source": [
    "## Writing a HTML table in Pandas"
   ]
  },
  {
   "cell_type": "markdown",
   "id": "1e056d1f-7363-4946-8b26-cab63c902cef",
   "metadata": {},
   "source": [
    "Lets say that we want to look at how often a team's defence was thrown on with a completion and the amount interceptions they earned from these passing attempts."
   ]
  },
  {
   "cell_type": "code",
   "execution_count": 13,
   "id": "eb4211c1-6fcd-4f9c-8eaa-7f5fbdda1d95",
   "metadata": {},
   "outputs": [],
   "source": [
    "df_write = pd.DataFrame({\"Teams\":[\"49ers\", \"Bears\", \"Bengals\", \"Bills\", \"Broncos\"], \n",
    "                         \"Passing Att\":[545,477,626,530,562], \n",
    "                         \"Cmp Pct\":[68.3,65.8,67.1,56.0,60.7], \n",
    "                         \"INT\":[9,8,13,19,13]})\n",
    "df_write.to_html('write2021NFL_Defense.html', index=False)"
   ]
  },
  {
   "cell_type": "code",
   "execution_count": 9,
   "id": "79eb3404-4eaa-4c4f-8fab-b72ce5f4e0cd",
   "metadata": {},
   "outputs": [
    {
     "name": "stdout",
     "output_type": "stream",
     "text": [
      "Tables Recovered: 1\n",
      "     Teams  Passing Att  Cmp Pct  INT\n",
      "0    49ers          545     68.3    9\n",
      "1    Bears          477     65.8    8\n",
      "2  Bengals          626     67.1   13\n",
      "3    Bills          530     56.0   19\n",
      "4  Broncos          562     60.7   13\n"
     ]
    }
   ],
   "source": [
    "table3 = pd.read_html('write2021NFL_Defense.html')\n",
    "print('Tables Recovered:', len(table3)) # Confirm what we see with out output\n",
    "df_wtest = table3[0] # This will save the first recovered table as df\n",
    "print(df_wtest.head(20))"
   ]
  },
  {
   "cell_type": "code",
   "execution_count": 10,
   "id": "dc936a2d-9e9f-497d-9648-af1b97304aa3",
   "metadata": {},
   "outputs": [
    {
     "ename": "SyntaxError",
     "evalue": "invalid syntax (2164459779.py, line 1)",
     "output_type": "error",
     "traceback": [
      "\u001b[0;36m  Input \u001b[0;32mIn [10]\u001b[0;36m\u001b[0m\n\u001b[0;31m    df.style is a command used to assist with the modification of the styler object\u001b[0m\n\u001b[0m                  ^\u001b[0m\n\u001b[0;31mSyntaxError\u001b[0m\u001b[0;31m:\u001b[0m invalid syntax\n"
     ]
    }
   ],
   "source": [
    "df.style is a command used to assist with the modification of the styler object \n",
    "    this controls the visual of the dataframe found from the web"
   ]
  },
  {
   "cell_type": "code",
   "execution_count": null,
   "id": "864c5953-303d-47a7-bd4b-03519448e9b2",
   "metadata": {},
   "outputs": [],
   "source": [
    "Highlighting Maximum & Minimum Values\n",
    "    .highlight_max() will highlight th maximum value in a given table\n",
    "highlighting minimum values is very similar and simple and can be done by using the command .highlight_min()\n",
    "\n",
    "Heat Maps \n",
    "    Heat maps are a visual add on that allows you to organize your data with color shades. The darker the color, the higher the value \n",
    "    Although there is no direct c0mmand to complete this task, the styler.background_gradient() seems to do the trick\n",
    "        text_color_threshold: dicates the text visibility within the colored graph\n",
    "set properties method\n",
    "   we can use the command set_properties command to set data indepednadnt properties \n",
    "    This is used purely for visual appeal and its pretty easy to sustomize your table\n",
    "    "
   ]
  },
  {
   "cell_type": "code",
   "execution_count": null,
   "id": "3d508f6e-04a8-4d05-8ff2-f8c9230c0fd6",
   "metadata": {},
   "outputs": [],
   "source": [
    "Decimals\n",
    "    A table with the least amount of decimals possible is more pleasing to the eye and easier to understand\n",
    "    The .set_percision() command is used to determine the maximum number of decimals allowed \n",
    "    Add easy example...\n",
    "    Now the dataframe is much easier to read\n",
    "Titles \n",
    "    When you would like to title your table, just use the .set_caption() command"
   ]
  },
  {
   "cell_type": "code",
   "execution_count": null,
   "id": "3f818e27-d631-48fe-8e92-0f0380a1e0e1",
   "metadata": {},
   "outputs": [],
   "source": [
    "Rows \n",
    "    If you would like to customize the number of rowns your table consists of you can use pd.set_option(\"max rows() command \n",
    "    This will allow you to add and take away rows as needed."
   ]
  },
  {
   "cell_type": "code",
   "execution_count": null,
   "id": "65ceb428-9e9a-4953-b4fc-7f76732d4bfb",
   "metadata": {},
   "outputs": [],
   "source": [
    "Simple datafram example that we will be altering "
   ]
  },
  {
   "cell_type": "code",
   "execution_count": 31,
   "id": "8794712e-0271-438c-894f-5f9ecaee3e4b",
   "metadata": {},
   "outputs": [],
   "source": [
    "import pandas as pd\n",
    "import numpy as np\n",
    "\n",
    "np.random.seed(24)\n",
    "df = pd.DataFrame({'A': np.linspace(1, 10, 10)})\n",
    "df = pd.concat([df, pd.DataFrame(np.random.randn(10, 4), columns=list('BCDE'))],\n",
    "               axis=1)\n",
    "df.iloc[3, 3] = np.nan\n",
    "df.iloc[0, 2] = np.nan"
   ]
  },
  {
   "cell_type": "code",
   "execution_count": 22,
   "id": "7713c719-5de6-4b45-9963-7812a8a6f06a",
   "metadata": {},
   "outputs": [
    {
     "data": {
      "text/html": [
       "<style type=\"text/css\">\n",
       "</style>\n",
       "<table id=\"T_72a4d\">\n",
       "  <thead>\n",
       "    <tr>\n",
       "      <th class=\"blank level0\" >&nbsp;</th>\n",
       "      <th id=\"T_72a4d_level0_col0\" class=\"col_heading level0 col0\" >A</th>\n",
       "      <th id=\"T_72a4d_level0_col1\" class=\"col_heading level0 col1\" >B</th>\n",
       "      <th id=\"T_72a4d_level0_col2\" class=\"col_heading level0 col2\" >C</th>\n",
       "      <th id=\"T_72a4d_level0_col3\" class=\"col_heading level0 col3\" >D</th>\n",
       "      <th id=\"T_72a4d_level0_col4\" class=\"col_heading level0 col4\" >E</th>\n",
       "    </tr>\n",
       "  </thead>\n",
       "  <tbody>\n",
       "    <tr>\n",
       "      <th id=\"T_72a4d_level0_row0\" class=\"row_heading level0 row0\" >0</th>\n",
       "      <td id=\"T_72a4d_row0_col0\" class=\"data row0 col0\" >1.000000</td>\n",
       "      <td id=\"T_72a4d_row0_col1\" class=\"data row0 col1\" >1.329212</td>\n",
       "      <td id=\"T_72a4d_row0_col2\" class=\"data row0 col2\" >nan</td>\n",
       "      <td id=\"T_72a4d_row0_col3\" class=\"data row0 col3\" >-0.316280</td>\n",
       "      <td id=\"T_72a4d_row0_col4\" class=\"data row0 col4\" >-0.990810</td>\n",
       "    </tr>\n",
       "    <tr>\n",
       "      <th id=\"T_72a4d_level0_row1\" class=\"row_heading level0 row1\" >1</th>\n",
       "      <td id=\"T_72a4d_row1_col0\" class=\"data row1 col0\" >2.000000</td>\n",
       "      <td id=\"T_72a4d_row1_col1\" class=\"data row1 col1\" >-1.070816</td>\n",
       "      <td id=\"T_72a4d_row1_col2\" class=\"data row1 col2\" >-1.438713</td>\n",
       "      <td id=\"T_72a4d_row1_col3\" class=\"data row1 col3\" >0.564417</td>\n",
       "      <td id=\"T_72a4d_row1_col4\" class=\"data row1 col4\" >0.295722</td>\n",
       "    </tr>\n",
       "    <tr>\n",
       "      <th id=\"T_72a4d_level0_row2\" class=\"row_heading level0 row2\" >2</th>\n",
       "      <td id=\"T_72a4d_row2_col0\" class=\"data row2 col0\" >3.000000</td>\n",
       "      <td id=\"T_72a4d_row2_col1\" class=\"data row2 col1\" >-1.626404</td>\n",
       "      <td id=\"T_72a4d_row2_col2\" class=\"data row2 col2\" >0.219565</td>\n",
       "      <td id=\"T_72a4d_row2_col3\" class=\"data row2 col3\" >0.678805</td>\n",
       "      <td id=\"T_72a4d_row2_col4\" class=\"data row2 col4\" >1.889273</td>\n",
       "    </tr>\n",
       "    <tr>\n",
       "      <th id=\"T_72a4d_level0_row3\" class=\"row_heading level0 row3\" >3</th>\n",
       "      <td id=\"T_72a4d_row3_col0\" class=\"data row3 col0\" >4.000000</td>\n",
       "      <td id=\"T_72a4d_row3_col1\" class=\"data row3 col1\" >0.961538</td>\n",
       "      <td id=\"T_72a4d_row3_col2\" class=\"data row3 col2\" >0.104011</td>\n",
       "      <td id=\"T_72a4d_row3_col3\" class=\"data row3 col3\" >nan</td>\n",
       "      <td id=\"T_72a4d_row3_col4\" class=\"data row3 col4\" >0.850229</td>\n",
       "    </tr>\n",
       "    <tr>\n",
       "      <th id=\"T_72a4d_level0_row4\" class=\"row_heading level0 row4\" >4</th>\n",
       "      <td id=\"T_72a4d_row4_col0\" class=\"data row4 col0\" >5.000000</td>\n",
       "      <td id=\"T_72a4d_row4_col1\" class=\"data row4 col1\" >1.453425</td>\n",
       "      <td id=\"T_72a4d_row4_col2\" class=\"data row4 col2\" >1.057737</td>\n",
       "      <td id=\"T_72a4d_row4_col3\" class=\"data row4 col3\" >0.165562</td>\n",
       "      <td id=\"T_72a4d_row4_col4\" class=\"data row4 col4\" >0.515018</td>\n",
       "    </tr>\n",
       "    <tr>\n",
       "      <th id=\"T_72a4d_level0_row5\" class=\"row_heading level0 row5\" >5</th>\n",
       "      <td id=\"T_72a4d_row5_col0\" class=\"data row5 col0\" >6.000000</td>\n",
       "      <td id=\"T_72a4d_row5_col1\" class=\"data row5 col1\" >-1.336936</td>\n",
       "      <td id=\"T_72a4d_row5_col2\" class=\"data row5 col2\" >0.562861</td>\n",
       "      <td id=\"T_72a4d_row5_col3\" class=\"data row5 col3\" >1.392855</td>\n",
       "      <td id=\"T_72a4d_row5_col4\" class=\"data row5 col4\" >-0.063328</td>\n",
       "    </tr>\n",
       "    <tr>\n",
       "      <th id=\"T_72a4d_level0_row6\" class=\"row_heading level0 row6\" >6</th>\n",
       "      <td id=\"T_72a4d_row6_col0\" class=\"data row6 col0\" >7.000000</td>\n",
       "      <td id=\"T_72a4d_row6_col1\" class=\"data row6 col1\" >0.121668</td>\n",
       "      <td id=\"T_72a4d_row6_col2\" class=\"data row6 col2\" >1.207603</td>\n",
       "      <td id=\"T_72a4d_row6_col3\" class=\"data row6 col3\" >-0.002040</td>\n",
       "      <td id=\"T_72a4d_row6_col4\" class=\"data row6 col4\" >1.627796</td>\n",
       "    </tr>\n",
       "    <tr>\n",
       "      <th id=\"T_72a4d_level0_row7\" class=\"row_heading level0 row7\" >7</th>\n",
       "      <td id=\"T_72a4d_row7_col0\" class=\"data row7 col0\" >8.000000</td>\n",
       "      <td id=\"T_72a4d_row7_col1\" class=\"data row7 col1\" >0.354493</td>\n",
       "      <td id=\"T_72a4d_row7_col2\" class=\"data row7 col2\" >1.037528</td>\n",
       "      <td id=\"T_72a4d_row7_col3\" class=\"data row7 col3\" >-0.385684</td>\n",
       "      <td id=\"T_72a4d_row7_col4\" class=\"data row7 col4\" >0.519818</td>\n",
       "    </tr>\n",
       "    <tr>\n",
       "      <th id=\"T_72a4d_level0_row8\" class=\"row_heading level0 row8\" >8</th>\n",
       "      <td id=\"T_72a4d_row8_col0\" class=\"data row8 col0\" >9.000000</td>\n",
       "      <td id=\"T_72a4d_row8_col1\" class=\"data row8 col1\" >1.686583</td>\n",
       "      <td id=\"T_72a4d_row8_col2\" class=\"data row8 col2\" >-1.325963</td>\n",
       "      <td id=\"T_72a4d_row8_col3\" class=\"data row8 col3\" >1.428984</td>\n",
       "      <td id=\"T_72a4d_row8_col4\" class=\"data row8 col4\" >-2.089354</td>\n",
       "    </tr>\n",
       "    <tr>\n",
       "      <th id=\"T_72a4d_level0_row9\" class=\"row_heading level0 row9\" >9</th>\n",
       "      <td id=\"T_72a4d_row9_col0\" class=\"data row9 col0\" >10.000000</td>\n",
       "      <td id=\"T_72a4d_row9_col1\" class=\"data row9 col1\" >-0.129820</td>\n",
       "      <td id=\"T_72a4d_row9_col2\" class=\"data row9 col2\" >0.631523</td>\n",
       "      <td id=\"T_72a4d_row9_col3\" class=\"data row9 col3\" >-0.586538</td>\n",
       "      <td id=\"T_72a4d_row9_col4\" class=\"data row9 col4\" >0.290720</td>\n",
       "    </tr>\n",
       "  </tbody>\n",
       "</table>\n"
      ],
      "text/plain": [
       "<pandas.io.formats.style.Styler at 0x7f86a452ac10>"
      ]
     },
     "execution_count": 22,
     "metadata": {},
     "output_type": "execute_result"
    }
   ],
   "source": [
    "df.style"
   ]
  },
  {
   "cell_type": "code",
   "execution_count": null,
   "id": "23015412-bf5f-44b1-89f1-7c29fe8894bb",
   "metadata": {},
   "outputs": [],
   "source": [
    "https://pandas.pydata.org/pandas-docs/version/1.1/user_guide/style.html"
   ]
  },
  {
   "cell_type": "code",
   "execution_count": null,
   "id": "4f501c11-fb24-4b7f-9f6e-87637cebe66b",
   "metadata": {},
   "outputs": [],
   "source": [
    "Lets make the negative numbers red "
   ]
  },
  {
   "cell_type": "code",
   "execution_count": 25,
   "id": "eb696ad7-5212-4c5d-ab17-f3e5def5d072",
   "metadata": {},
   "outputs": [
    {
     "name": "stderr",
     "output_type": "stream",
     "text": [
      "/tmp/ipykernel_143076/2916385371.py:1: FutureWarning: this method is deprecated in favour of `Styler.to_html()`\n",
      "  df.style.highlight_null().render().split('\\n')[:10]\n"
     ]
    },
    {
     "data": {
      "text/plain": [
       "['<style type=\"text/css\">',\n",
       " '#T_b8fcb_row0_col2, #T_b8fcb_row3_col3 {',\n",
       " '  background-color: red;',\n",
       " '}',\n",
       " '</style>',\n",
       " '<table id=\"T_b8fcb\">',\n",
       " '  <thead>',\n",
       " '    <tr>',\n",
       " '      <th class=\"blank level0\" >&nbsp;</th>',\n",
       " '      <th id=\"T_b8fcb_level0_col0\" class=\"col_heading level0 col0\" >A</th>']"
      ]
     },
     "execution_count": 25,
     "metadata": {},
     "output_type": "execute_result"
    }
   ],
   "source": [
    "df.style.highlight_null().render().split('\\n')[:10]"
   ]
  },
  {
   "cell_type": "code",
   "execution_count": 26,
   "id": "7e900712-6a8f-4fab-b1d1-8027ceb13e69",
   "metadata": {},
   "outputs": [],
   "source": [
    "def color_negative_red(val):\n",
    "    \"\"\"\n",
    "    Takes a scalar and returns a string with\n",
    "    the css property `'color: red'` for negative\n",
    "    strings, black otherwise.\n",
    "    \"\"\"\n",
    "    color = 'red' if val < 0 else 'black'\n",
    "    return 'color: %s' % color"
   ]
  },
  {
   "cell_type": "code",
   "execution_count": 27,
   "id": "da6f243e-a12c-4092-9359-a92555c703f9",
   "metadata": {},
   "outputs": [
    {
     "data": {
      "text/html": [
       "<style type=\"text/css\">\n",
       "#T_cdd10_row0_col0, #T_cdd10_row0_col1, #T_cdd10_row0_col2, #T_cdd10_row1_col0, #T_cdd10_row1_col3, #T_cdd10_row1_col4, #T_cdd10_row2_col0, #T_cdd10_row2_col2, #T_cdd10_row2_col3, #T_cdd10_row2_col4, #T_cdd10_row3_col0, #T_cdd10_row3_col1, #T_cdd10_row3_col2, #T_cdd10_row3_col3, #T_cdd10_row3_col4, #T_cdd10_row4_col0, #T_cdd10_row4_col1, #T_cdd10_row4_col2, #T_cdd10_row4_col3, #T_cdd10_row4_col4, #T_cdd10_row5_col0, #T_cdd10_row5_col2, #T_cdd10_row5_col3, #T_cdd10_row6_col0, #T_cdd10_row6_col1, #T_cdd10_row6_col2, #T_cdd10_row6_col4, #T_cdd10_row7_col0, #T_cdd10_row7_col1, #T_cdd10_row7_col2, #T_cdd10_row7_col4, #T_cdd10_row8_col0, #T_cdd10_row8_col1, #T_cdd10_row8_col3, #T_cdd10_row9_col0, #T_cdd10_row9_col2, #T_cdd10_row9_col4 {\n",
       "  color: black;\n",
       "}\n",
       "#T_cdd10_row0_col3, #T_cdd10_row0_col4, #T_cdd10_row1_col1, #T_cdd10_row1_col2, #T_cdd10_row2_col1, #T_cdd10_row5_col1, #T_cdd10_row5_col4, #T_cdd10_row6_col3, #T_cdd10_row7_col3, #T_cdd10_row8_col2, #T_cdd10_row8_col4, #T_cdd10_row9_col1, #T_cdd10_row9_col3 {\n",
       "  color: red;\n",
       "}\n",
       "</style>\n",
       "<table id=\"T_cdd10\">\n",
       "  <thead>\n",
       "    <tr>\n",
       "      <th class=\"blank level0\" >&nbsp;</th>\n",
       "      <th id=\"T_cdd10_level0_col0\" class=\"col_heading level0 col0\" >A</th>\n",
       "      <th id=\"T_cdd10_level0_col1\" class=\"col_heading level0 col1\" >B</th>\n",
       "      <th id=\"T_cdd10_level0_col2\" class=\"col_heading level0 col2\" >C</th>\n",
       "      <th id=\"T_cdd10_level0_col3\" class=\"col_heading level0 col3\" >D</th>\n",
       "      <th id=\"T_cdd10_level0_col4\" class=\"col_heading level0 col4\" >E</th>\n",
       "    </tr>\n",
       "  </thead>\n",
       "  <tbody>\n",
       "    <tr>\n",
       "      <th id=\"T_cdd10_level0_row0\" class=\"row_heading level0 row0\" >0</th>\n",
       "      <td id=\"T_cdd10_row0_col0\" class=\"data row0 col0\" >1.000000</td>\n",
       "      <td id=\"T_cdd10_row0_col1\" class=\"data row0 col1\" >1.329212</td>\n",
       "      <td id=\"T_cdd10_row0_col2\" class=\"data row0 col2\" >nan</td>\n",
       "      <td id=\"T_cdd10_row0_col3\" class=\"data row0 col3\" >-0.316280</td>\n",
       "      <td id=\"T_cdd10_row0_col4\" class=\"data row0 col4\" >-0.990810</td>\n",
       "    </tr>\n",
       "    <tr>\n",
       "      <th id=\"T_cdd10_level0_row1\" class=\"row_heading level0 row1\" >1</th>\n",
       "      <td id=\"T_cdd10_row1_col0\" class=\"data row1 col0\" >2.000000</td>\n",
       "      <td id=\"T_cdd10_row1_col1\" class=\"data row1 col1\" >-1.070816</td>\n",
       "      <td id=\"T_cdd10_row1_col2\" class=\"data row1 col2\" >-1.438713</td>\n",
       "      <td id=\"T_cdd10_row1_col3\" class=\"data row1 col3\" >0.564417</td>\n",
       "      <td id=\"T_cdd10_row1_col4\" class=\"data row1 col4\" >0.295722</td>\n",
       "    </tr>\n",
       "    <tr>\n",
       "      <th id=\"T_cdd10_level0_row2\" class=\"row_heading level0 row2\" >2</th>\n",
       "      <td id=\"T_cdd10_row2_col0\" class=\"data row2 col0\" >3.000000</td>\n",
       "      <td id=\"T_cdd10_row2_col1\" class=\"data row2 col1\" >-1.626404</td>\n",
       "      <td id=\"T_cdd10_row2_col2\" class=\"data row2 col2\" >0.219565</td>\n",
       "      <td id=\"T_cdd10_row2_col3\" class=\"data row2 col3\" >0.678805</td>\n",
       "      <td id=\"T_cdd10_row2_col4\" class=\"data row2 col4\" >1.889273</td>\n",
       "    </tr>\n",
       "    <tr>\n",
       "      <th id=\"T_cdd10_level0_row3\" class=\"row_heading level0 row3\" >3</th>\n",
       "      <td id=\"T_cdd10_row3_col0\" class=\"data row3 col0\" >4.000000</td>\n",
       "      <td id=\"T_cdd10_row3_col1\" class=\"data row3 col1\" >0.961538</td>\n",
       "      <td id=\"T_cdd10_row3_col2\" class=\"data row3 col2\" >0.104011</td>\n",
       "      <td id=\"T_cdd10_row3_col3\" class=\"data row3 col3\" >nan</td>\n",
       "      <td id=\"T_cdd10_row3_col4\" class=\"data row3 col4\" >0.850229</td>\n",
       "    </tr>\n",
       "    <tr>\n",
       "      <th id=\"T_cdd10_level0_row4\" class=\"row_heading level0 row4\" >4</th>\n",
       "      <td id=\"T_cdd10_row4_col0\" class=\"data row4 col0\" >5.000000</td>\n",
       "      <td id=\"T_cdd10_row4_col1\" class=\"data row4 col1\" >1.453425</td>\n",
       "      <td id=\"T_cdd10_row4_col2\" class=\"data row4 col2\" >1.057737</td>\n",
       "      <td id=\"T_cdd10_row4_col3\" class=\"data row4 col3\" >0.165562</td>\n",
       "      <td id=\"T_cdd10_row4_col4\" class=\"data row4 col4\" >0.515018</td>\n",
       "    </tr>\n",
       "    <tr>\n",
       "      <th id=\"T_cdd10_level0_row5\" class=\"row_heading level0 row5\" >5</th>\n",
       "      <td id=\"T_cdd10_row5_col0\" class=\"data row5 col0\" >6.000000</td>\n",
       "      <td id=\"T_cdd10_row5_col1\" class=\"data row5 col1\" >-1.336936</td>\n",
       "      <td id=\"T_cdd10_row5_col2\" class=\"data row5 col2\" >0.562861</td>\n",
       "      <td id=\"T_cdd10_row5_col3\" class=\"data row5 col3\" >1.392855</td>\n",
       "      <td id=\"T_cdd10_row5_col4\" class=\"data row5 col4\" >-0.063328</td>\n",
       "    </tr>\n",
       "    <tr>\n",
       "      <th id=\"T_cdd10_level0_row6\" class=\"row_heading level0 row6\" >6</th>\n",
       "      <td id=\"T_cdd10_row6_col0\" class=\"data row6 col0\" >7.000000</td>\n",
       "      <td id=\"T_cdd10_row6_col1\" class=\"data row6 col1\" >0.121668</td>\n",
       "      <td id=\"T_cdd10_row6_col2\" class=\"data row6 col2\" >1.207603</td>\n",
       "      <td id=\"T_cdd10_row6_col3\" class=\"data row6 col3\" >-0.002040</td>\n",
       "      <td id=\"T_cdd10_row6_col4\" class=\"data row6 col4\" >1.627796</td>\n",
       "    </tr>\n",
       "    <tr>\n",
       "      <th id=\"T_cdd10_level0_row7\" class=\"row_heading level0 row7\" >7</th>\n",
       "      <td id=\"T_cdd10_row7_col0\" class=\"data row7 col0\" >8.000000</td>\n",
       "      <td id=\"T_cdd10_row7_col1\" class=\"data row7 col1\" >0.354493</td>\n",
       "      <td id=\"T_cdd10_row7_col2\" class=\"data row7 col2\" >1.037528</td>\n",
       "      <td id=\"T_cdd10_row7_col3\" class=\"data row7 col3\" >-0.385684</td>\n",
       "      <td id=\"T_cdd10_row7_col4\" class=\"data row7 col4\" >0.519818</td>\n",
       "    </tr>\n",
       "    <tr>\n",
       "      <th id=\"T_cdd10_level0_row8\" class=\"row_heading level0 row8\" >8</th>\n",
       "      <td id=\"T_cdd10_row8_col0\" class=\"data row8 col0\" >9.000000</td>\n",
       "      <td id=\"T_cdd10_row8_col1\" class=\"data row8 col1\" >1.686583</td>\n",
       "      <td id=\"T_cdd10_row8_col2\" class=\"data row8 col2\" >-1.325963</td>\n",
       "      <td id=\"T_cdd10_row8_col3\" class=\"data row8 col3\" >1.428984</td>\n",
       "      <td id=\"T_cdd10_row8_col4\" class=\"data row8 col4\" >-2.089354</td>\n",
       "    </tr>\n",
       "    <tr>\n",
       "      <th id=\"T_cdd10_level0_row9\" class=\"row_heading level0 row9\" >9</th>\n",
       "      <td id=\"T_cdd10_row9_col0\" class=\"data row9 col0\" >10.000000</td>\n",
       "      <td id=\"T_cdd10_row9_col1\" class=\"data row9 col1\" >-0.129820</td>\n",
       "      <td id=\"T_cdd10_row9_col2\" class=\"data row9 col2\" >0.631523</td>\n",
       "      <td id=\"T_cdd10_row9_col3\" class=\"data row9 col3\" >-0.586538</td>\n",
       "      <td id=\"T_cdd10_row9_col4\" class=\"data row9 col4\" >0.290720</td>\n",
       "    </tr>\n",
       "  </tbody>\n",
       "</table>\n"
      ],
      "text/plain": [
       "<pandas.io.formats.style.Styler at 0x7f86a452afa0>"
      ]
     },
     "execution_count": 27,
     "metadata": {},
     "output_type": "execute_result"
    }
   ],
   "source": [
    "s = df.style.applymap(color_negative_red)\n",
    "s"
   ]
  },
  {
   "cell_type": "code",
   "execution_count": null,
   "id": "545b1785-7379-42cb-8337-d3caca94102c",
   "metadata": {},
   "outputs": [],
   "source": [
    "As said before we can highlight minimum and maximum values if needed"
   ]
  },
  {
   "cell_type": "code",
   "execution_count": 29,
   "id": "2ca69398-facc-4ae7-96ee-cd9f37b80b0c",
   "metadata": {},
   "outputs": [],
   "source": [
    "def highlight_max(s):\n",
    "    '''\n",
    "    highlight the maximum in a Series yellow.\n",
    "    '''\n",
    "    is_max = s == s.max()\n",
    "    return ['background-color: yellow' if v else '' for v in is_max]"
   ]
  },
  {
   "cell_type": "code",
   "execution_count": 30,
   "id": "34f13e72-86eb-49a3-905e-2b1fc2964023",
   "metadata": {},
   "outputs": [
    {
     "data": {
      "text/html": [
       "<style type=\"text/css\">\n",
       "#T_1f44d_row2_col4, #T_1f44d_row6_col2, #T_1f44d_row8_col1, #T_1f44d_row8_col3, #T_1f44d_row9_col0 {\n",
       "  background-color: yellow;\n",
       "}\n",
       "</style>\n",
       "<table id=\"T_1f44d\">\n",
       "  <thead>\n",
       "    <tr>\n",
       "      <th class=\"blank level0\" >&nbsp;</th>\n",
       "      <th id=\"T_1f44d_level0_col0\" class=\"col_heading level0 col0\" >A</th>\n",
       "      <th id=\"T_1f44d_level0_col1\" class=\"col_heading level0 col1\" >B</th>\n",
       "      <th id=\"T_1f44d_level0_col2\" class=\"col_heading level0 col2\" >C</th>\n",
       "      <th id=\"T_1f44d_level0_col3\" class=\"col_heading level0 col3\" >D</th>\n",
       "      <th id=\"T_1f44d_level0_col4\" class=\"col_heading level0 col4\" >E</th>\n",
       "    </tr>\n",
       "  </thead>\n",
       "  <tbody>\n",
       "    <tr>\n",
       "      <th id=\"T_1f44d_level0_row0\" class=\"row_heading level0 row0\" >0</th>\n",
       "      <td id=\"T_1f44d_row0_col0\" class=\"data row0 col0\" >1.000000</td>\n",
       "      <td id=\"T_1f44d_row0_col1\" class=\"data row0 col1\" >1.329212</td>\n",
       "      <td id=\"T_1f44d_row0_col2\" class=\"data row0 col2\" >nan</td>\n",
       "      <td id=\"T_1f44d_row0_col3\" class=\"data row0 col3\" >-0.316280</td>\n",
       "      <td id=\"T_1f44d_row0_col4\" class=\"data row0 col4\" >-0.990810</td>\n",
       "    </tr>\n",
       "    <tr>\n",
       "      <th id=\"T_1f44d_level0_row1\" class=\"row_heading level0 row1\" >1</th>\n",
       "      <td id=\"T_1f44d_row1_col0\" class=\"data row1 col0\" >2.000000</td>\n",
       "      <td id=\"T_1f44d_row1_col1\" class=\"data row1 col1\" >-1.070816</td>\n",
       "      <td id=\"T_1f44d_row1_col2\" class=\"data row1 col2\" >-1.438713</td>\n",
       "      <td id=\"T_1f44d_row1_col3\" class=\"data row1 col3\" >0.564417</td>\n",
       "      <td id=\"T_1f44d_row1_col4\" class=\"data row1 col4\" >0.295722</td>\n",
       "    </tr>\n",
       "    <tr>\n",
       "      <th id=\"T_1f44d_level0_row2\" class=\"row_heading level0 row2\" >2</th>\n",
       "      <td id=\"T_1f44d_row2_col0\" class=\"data row2 col0\" >3.000000</td>\n",
       "      <td id=\"T_1f44d_row2_col1\" class=\"data row2 col1\" >-1.626404</td>\n",
       "      <td id=\"T_1f44d_row2_col2\" class=\"data row2 col2\" >0.219565</td>\n",
       "      <td id=\"T_1f44d_row2_col3\" class=\"data row2 col3\" >0.678805</td>\n",
       "      <td id=\"T_1f44d_row2_col4\" class=\"data row2 col4\" >1.889273</td>\n",
       "    </tr>\n",
       "    <tr>\n",
       "      <th id=\"T_1f44d_level0_row3\" class=\"row_heading level0 row3\" >3</th>\n",
       "      <td id=\"T_1f44d_row3_col0\" class=\"data row3 col0\" >4.000000</td>\n",
       "      <td id=\"T_1f44d_row3_col1\" class=\"data row3 col1\" >0.961538</td>\n",
       "      <td id=\"T_1f44d_row3_col2\" class=\"data row3 col2\" >0.104011</td>\n",
       "      <td id=\"T_1f44d_row3_col3\" class=\"data row3 col3\" >nan</td>\n",
       "      <td id=\"T_1f44d_row3_col4\" class=\"data row3 col4\" >0.850229</td>\n",
       "    </tr>\n",
       "    <tr>\n",
       "      <th id=\"T_1f44d_level0_row4\" class=\"row_heading level0 row4\" >4</th>\n",
       "      <td id=\"T_1f44d_row4_col0\" class=\"data row4 col0\" >5.000000</td>\n",
       "      <td id=\"T_1f44d_row4_col1\" class=\"data row4 col1\" >1.453425</td>\n",
       "      <td id=\"T_1f44d_row4_col2\" class=\"data row4 col2\" >1.057737</td>\n",
       "      <td id=\"T_1f44d_row4_col3\" class=\"data row4 col3\" >0.165562</td>\n",
       "      <td id=\"T_1f44d_row4_col4\" class=\"data row4 col4\" >0.515018</td>\n",
       "    </tr>\n",
       "    <tr>\n",
       "      <th id=\"T_1f44d_level0_row5\" class=\"row_heading level0 row5\" >5</th>\n",
       "      <td id=\"T_1f44d_row5_col0\" class=\"data row5 col0\" >6.000000</td>\n",
       "      <td id=\"T_1f44d_row5_col1\" class=\"data row5 col1\" >-1.336936</td>\n",
       "      <td id=\"T_1f44d_row5_col2\" class=\"data row5 col2\" >0.562861</td>\n",
       "      <td id=\"T_1f44d_row5_col3\" class=\"data row5 col3\" >1.392855</td>\n",
       "      <td id=\"T_1f44d_row5_col4\" class=\"data row5 col4\" >-0.063328</td>\n",
       "    </tr>\n",
       "    <tr>\n",
       "      <th id=\"T_1f44d_level0_row6\" class=\"row_heading level0 row6\" >6</th>\n",
       "      <td id=\"T_1f44d_row6_col0\" class=\"data row6 col0\" >7.000000</td>\n",
       "      <td id=\"T_1f44d_row6_col1\" class=\"data row6 col1\" >0.121668</td>\n",
       "      <td id=\"T_1f44d_row6_col2\" class=\"data row6 col2\" >1.207603</td>\n",
       "      <td id=\"T_1f44d_row6_col3\" class=\"data row6 col3\" >-0.002040</td>\n",
       "      <td id=\"T_1f44d_row6_col4\" class=\"data row6 col4\" >1.627796</td>\n",
       "    </tr>\n",
       "    <tr>\n",
       "      <th id=\"T_1f44d_level0_row7\" class=\"row_heading level0 row7\" >7</th>\n",
       "      <td id=\"T_1f44d_row7_col0\" class=\"data row7 col0\" >8.000000</td>\n",
       "      <td id=\"T_1f44d_row7_col1\" class=\"data row7 col1\" >0.354493</td>\n",
       "      <td id=\"T_1f44d_row7_col2\" class=\"data row7 col2\" >1.037528</td>\n",
       "      <td id=\"T_1f44d_row7_col3\" class=\"data row7 col3\" >-0.385684</td>\n",
       "      <td id=\"T_1f44d_row7_col4\" class=\"data row7 col4\" >0.519818</td>\n",
       "    </tr>\n",
       "    <tr>\n",
       "      <th id=\"T_1f44d_level0_row8\" class=\"row_heading level0 row8\" >8</th>\n",
       "      <td id=\"T_1f44d_row8_col0\" class=\"data row8 col0\" >9.000000</td>\n",
       "      <td id=\"T_1f44d_row8_col1\" class=\"data row8 col1\" >1.686583</td>\n",
       "      <td id=\"T_1f44d_row8_col2\" class=\"data row8 col2\" >-1.325963</td>\n",
       "      <td id=\"T_1f44d_row8_col3\" class=\"data row8 col3\" >1.428984</td>\n",
       "      <td id=\"T_1f44d_row8_col4\" class=\"data row8 col4\" >-2.089354</td>\n",
       "    </tr>\n",
       "    <tr>\n",
       "      <th id=\"T_1f44d_level0_row9\" class=\"row_heading level0 row9\" >9</th>\n",
       "      <td id=\"T_1f44d_row9_col0\" class=\"data row9 col0\" >10.000000</td>\n",
       "      <td id=\"T_1f44d_row9_col1\" class=\"data row9 col1\" >-0.129820</td>\n",
       "      <td id=\"T_1f44d_row9_col2\" class=\"data row9 col2\" >0.631523</td>\n",
       "      <td id=\"T_1f44d_row9_col3\" class=\"data row9 col3\" >-0.586538</td>\n",
       "      <td id=\"T_1f44d_row9_col4\" class=\"data row9 col4\" >0.290720</td>\n",
       "    </tr>\n",
       "  </tbody>\n",
       "</table>\n"
      ],
      "text/plain": [
       "<pandas.io.formats.style.Styler at 0x7f86a44ccd90>"
      ]
     },
     "execution_count": 30,
     "metadata": {},
     "output_type": "execute_result"
    }
   ],
   "source": [
    "df.style.apply(highlight_max)"
   ]
  },
  {
   "cell_type": "code",
   "execution_count": null,
   "id": "4ef694e3-6345-4c56-8867-ff7cb373322b",
   "metadata": {},
   "outputs": [],
   "source": [
    "Shown above is highlighting the maxmim values of each row \n",
    "    Next, we can build on what we have by combining the two"
   ]
  },
  {
   "cell_type": "code",
   "execution_count": 32,
   "id": "ff2aee3b-9131-4fea-9733-eb29e5a5553e",
   "metadata": {},
   "outputs": [
    {
     "data": {
      "text/html": [
       "<style type=\"text/css\">\n",
       "#T_904a3_row0_col0, #T_904a3_row0_col1, #T_904a3_row0_col2, #T_904a3_row1_col0, #T_904a3_row1_col3, #T_904a3_row1_col4, #T_904a3_row2_col0, #T_904a3_row2_col2, #T_904a3_row2_col3, #T_904a3_row3_col0, #T_904a3_row3_col1, #T_904a3_row3_col2, #T_904a3_row3_col3, #T_904a3_row3_col4, #T_904a3_row4_col0, #T_904a3_row4_col1, #T_904a3_row4_col2, #T_904a3_row4_col3, #T_904a3_row4_col4, #T_904a3_row5_col0, #T_904a3_row5_col2, #T_904a3_row5_col3, #T_904a3_row6_col0, #T_904a3_row6_col1, #T_904a3_row6_col4, #T_904a3_row7_col0, #T_904a3_row7_col1, #T_904a3_row7_col2, #T_904a3_row7_col4, #T_904a3_row8_col0, #T_904a3_row9_col2, #T_904a3_row9_col4 {\n",
       "  color: black;\n",
       "}\n",
       "#T_904a3_row0_col3, #T_904a3_row0_col4, #T_904a3_row1_col1, #T_904a3_row1_col2, #T_904a3_row2_col1, #T_904a3_row5_col1, #T_904a3_row5_col4, #T_904a3_row6_col3, #T_904a3_row7_col3, #T_904a3_row8_col2, #T_904a3_row8_col4, #T_904a3_row9_col1, #T_904a3_row9_col3 {\n",
       "  color: red;\n",
       "}\n",
       "#T_904a3_row2_col4, #T_904a3_row6_col2, #T_904a3_row8_col1, #T_904a3_row8_col3, #T_904a3_row9_col0 {\n",
       "  color: black;\n",
       "  background-color: yellow;\n",
       "}\n",
       "</style>\n",
       "<table id=\"T_904a3\">\n",
       "  <thead>\n",
       "    <tr>\n",
       "      <th class=\"blank level0\" >&nbsp;</th>\n",
       "      <th id=\"T_904a3_level0_col0\" class=\"col_heading level0 col0\" >A</th>\n",
       "      <th id=\"T_904a3_level0_col1\" class=\"col_heading level0 col1\" >B</th>\n",
       "      <th id=\"T_904a3_level0_col2\" class=\"col_heading level0 col2\" >C</th>\n",
       "      <th id=\"T_904a3_level0_col3\" class=\"col_heading level0 col3\" >D</th>\n",
       "      <th id=\"T_904a3_level0_col4\" class=\"col_heading level0 col4\" >E</th>\n",
       "    </tr>\n",
       "  </thead>\n",
       "  <tbody>\n",
       "    <tr>\n",
       "      <th id=\"T_904a3_level0_row0\" class=\"row_heading level0 row0\" >0</th>\n",
       "      <td id=\"T_904a3_row0_col0\" class=\"data row0 col0\" >1.000000</td>\n",
       "      <td id=\"T_904a3_row0_col1\" class=\"data row0 col1\" >1.329212</td>\n",
       "      <td id=\"T_904a3_row0_col2\" class=\"data row0 col2\" >nan</td>\n",
       "      <td id=\"T_904a3_row0_col3\" class=\"data row0 col3\" >-0.316280</td>\n",
       "      <td id=\"T_904a3_row0_col4\" class=\"data row0 col4\" >-0.990810</td>\n",
       "    </tr>\n",
       "    <tr>\n",
       "      <th id=\"T_904a3_level0_row1\" class=\"row_heading level0 row1\" >1</th>\n",
       "      <td id=\"T_904a3_row1_col0\" class=\"data row1 col0\" >2.000000</td>\n",
       "      <td id=\"T_904a3_row1_col1\" class=\"data row1 col1\" >-1.070816</td>\n",
       "      <td id=\"T_904a3_row1_col2\" class=\"data row1 col2\" >-1.438713</td>\n",
       "      <td id=\"T_904a3_row1_col3\" class=\"data row1 col3\" >0.564417</td>\n",
       "      <td id=\"T_904a3_row1_col4\" class=\"data row1 col4\" >0.295722</td>\n",
       "    </tr>\n",
       "    <tr>\n",
       "      <th id=\"T_904a3_level0_row2\" class=\"row_heading level0 row2\" >2</th>\n",
       "      <td id=\"T_904a3_row2_col0\" class=\"data row2 col0\" >3.000000</td>\n",
       "      <td id=\"T_904a3_row2_col1\" class=\"data row2 col1\" >-1.626404</td>\n",
       "      <td id=\"T_904a3_row2_col2\" class=\"data row2 col2\" >0.219565</td>\n",
       "      <td id=\"T_904a3_row2_col3\" class=\"data row2 col3\" >0.678805</td>\n",
       "      <td id=\"T_904a3_row2_col4\" class=\"data row2 col4\" >1.889273</td>\n",
       "    </tr>\n",
       "    <tr>\n",
       "      <th id=\"T_904a3_level0_row3\" class=\"row_heading level0 row3\" >3</th>\n",
       "      <td id=\"T_904a3_row3_col0\" class=\"data row3 col0\" >4.000000</td>\n",
       "      <td id=\"T_904a3_row3_col1\" class=\"data row3 col1\" >0.961538</td>\n",
       "      <td id=\"T_904a3_row3_col2\" class=\"data row3 col2\" >0.104011</td>\n",
       "      <td id=\"T_904a3_row3_col3\" class=\"data row3 col3\" >nan</td>\n",
       "      <td id=\"T_904a3_row3_col4\" class=\"data row3 col4\" >0.850229</td>\n",
       "    </tr>\n",
       "    <tr>\n",
       "      <th id=\"T_904a3_level0_row4\" class=\"row_heading level0 row4\" >4</th>\n",
       "      <td id=\"T_904a3_row4_col0\" class=\"data row4 col0\" >5.000000</td>\n",
       "      <td id=\"T_904a3_row4_col1\" class=\"data row4 col1\" >1.453425</td>\n",
       "      <td id=\"T_904a3_row4_col2\" class=\"data row4 col2\" >1.057737</td>\n",
       "      <td id=\"T_904a3_row4_col3\" class=\"data row4 col3\" >0.165562</td>\n",
       "      <td id=\"T_904a3_row4_col4\" class=\"data row4 col4\" >0.515018</td>\n",
       "    </tr>\n",
       "    <tr>\n",
       "      <th id=\"T_904a3_level0_row5\" class=\"row_heading level0 row5\" >5</th>\n",
       "      <td id=\"T_904a3_row5_col0\" class=\"data row5 col0\" >6.000000</td>\n",
       "      <td id=\"T_904a3_row5_col1\" class=\"data row5 col1\" >-1.336936</td>\n",
       "      <td id=\"T_904a3_row5_col2\" class=\"data row5 col2\" >0.562861</td>\n",
       "      <td id=\"T_904a3_row5_col3\" class=\"data row5 col3\" >1.392855</td>\n",
       "      <td id=\"T_904a3_row5_col4\" class=\"data row5 col4\" >-0.063328</td>\n",
       "    </tr>\n",
       "    <tr>\n",
       "      <th id=\"T_904a3_level0_row6\" class=\"row_heading level0 row6\" >6</th>\n",
       "      <td id=\"T_904a3_row6_col0\" class=\"data row6 col0\" >7.000000</td>\n",
       "      <td id=\"T_904a3_row6_col1\" class=\"data row6 col1\" >0.121668</td>\n",
       "      <td id=\"T_904a3_row6_col2\" class=\"data row6 col2\" >1.207603</td>\n",
       "      <td id=\"T_904a3_row6_col3\" class=\"data row6 col3\" >-0.002040</td>\n",
       "      <td id=\"T_904a3_row6_col4\" class=\"data row6 col4\" >1.627796</td>\n",
       "    </tr>\n",
       "    <tr>\n",
       "      <th id=\"T_904a3_level0_row7\" class=\"row_heading level0 row7\" >7</th>\n",
       "      <td id=\"T_904a3_row7_col0\" class=\"data row7 col0\" >8.000000</td>\n",
       "      <td id=\"T_904a3_row7_col1\" class=\"data row7 col1\" >0.354493</td>\n",
       "      <td id=\"T_904a3_row7_col2\" class=\"data row7 col2\" >1.037528</td>\n",
       "      <td id=\"T_904a3_row7_col3\" class=\"data row7 col3\" >-0.385684</td>\n",
       "      <td id=\"T_904a3_row7_col4\" class=\"data row7 col4\" >0.519818</td>\n",
       "    </tr>\n",
       "    <tr>\n",
       "      <th id=\"T_904a3_level0_row8\" class=\"row_heading level0 row8\" >8</th>\n",
       "      <td id=\"T_904a3_row8_col0\" class=\"data row8 col0\" >9.000000</td>\n",
       "      <td id=\"T_904a3_row8_col1\" class=\"data row8 col1\" >1.686583</td>\n",
       "      <td id=\"T_904a3_row8_col2\" class=\"data row8 col2\" >-1.325963</td>\n",
       "      <td id=\"T_904a3_row8_col3\" class=\"data row8 col3\" >1.428984</td>\n",
       "      <td id=\"T_904a3_row8_col4\" class=\"data row8 col4\" >-2.089354</td>\n",
       "    </tr>\n",
       "    <tr>\n",
       "      <th id=\"T_904a3_level0_row9\" class=\"row_heading level0 row9\" >9</th>\n",
       "      <td id=\"T_904a3_row9_col0\" class=\"data row9 col0\" >10.000000</td>\n",
       "      <td id=\"T_904a3_row9_col1\" class=\"data row9 col1\" >-0.129820</td>\n",
       "      <td id=\"T_904a3_row9_col2\" class=\"data row9 col2\" >0.631523</td>\n",
       "      <td id=\"T_904a3_row9_col3\" class=\"data row9 col3\" >-0.586538</td>\n",
       "      <td id=\"T_904a3_row9_col4\" class=\"data row9 col4\" >0.290720</td>\n",
       "    </tr>\n",
       "  </tbody>\n",
       "</table>\n"
      ],
      "text/plain": [
       "<pandas.io.formats.style.Styler at 0x7f86a4445e80>"
      ]
     },
     "execution_count": 32,
     "metadata": {},
     "output_type": "execute_result"
    }
   ],
   "source": [
    "df.style.\\\n",
    "    applymap(color_negative_red).\\\n",
    "    apply(highlight_max)"
   ]
  },
  {
   "cell_type": "code",
   "execution_count": null,
   "id": "52f9cda6-6ba8-4cb4-8490-c4526c5d0bc4",
   "metadata": {},
   "outputs": [],
   "source": [
    "Seen here, we have all maxmimum values highlighted while all negative values are marked red \n",
    "Lets say you want to only highlight the maximum value in the entire table \n",
    "We can use the .apply function to indicate we want to be testing the entire table"
   ]
  },
  {
   "cell_type": "code",
   "execution_count": 33,
   "id": "88774633-2c90-40bd-99ce-f3971ce2a9cb",
   "metadata": {},
   "outputs": [],
   "source": [
    "def highlight_max(data, color='yellow'):\n",
    "    '''\n",
    "    highlight the maximum in a Series or DataFrame\n",
    "    '''\n",
    "    attr = 'background-color: {}'.format(color)\n",
    "    if data.ndim == 1:  # Series from .apply(axis=0) or axis=1\n",
    "        is_max = data == data.max()\n",
    "        return [attr if v else '' for v in is_max]\n",
    "    else:  # from .apply(axis=None)\n",
    "        is_max = data == data.max().max()\n",
    "        return pd.DataFrame(np.where(is_max, attr, ''),\n",
    "                            index=data.index, columns=data.columns)"
   ]
  },
  {
   "cell_type": "code",
   "execution_count": 34,
   "id": "9477d5a5-a49c-47a0-9a62-0f7d593efc52",
   "metadata": {},
   "outputs": [
    {
     "data": {
      "text/html": [
       "<style type=\"text/css\">\n",
       "#T_c61e5_row9_col0 {\n",
       "  background-color: darkorange;\n",
       "}\n",
       "</style>\n",
       "<table id=\"T_c61e5\">\n",
       "  <thead>\n",
       "    <tr>\n",
       "      <th class=\"blank level0\" >&nbsp;</th>\n",
       "      <th id=\"T_c61e5_level0_col0\" class=\"col_heading level0 col0\" >A</th>\n",
       "      <th id=\"T_c61e5_level0_col1\" class=\"col_heading level0 col1\" >B</th>\n",
       "      <th id=\"T_c61e5_level0_col2\" class=\"col_heading level0 col2\" >C</th>\n",
       "      <th id=\"T_c61e5_level0_col3\" class=\"col_heading level0 col3\" >D</th>\n",
       "      <th id=\"T_c61e5_level0_col4\" class=\"col_heading level0 col4\" >E</th>\n",
       "    </tr>\n",
       "  </thead>\n",
       "  <tbody>\n",
       "    <tr>\n",
       "      <th id=\"T_c61e5_level0_row0\" class=\"row_heading level0 row0\" >0</th>\n",
       "      <td id=\"T_c61e5_row0_col0\" class=\"data row0 col0\" >1.000000</td>\n",
       "      <td id=\"T_c61e5_row0_col1\" class=\"data row0 col1\" >1.329212</td>\n",
       "      <td id=\"T_c61e5_row0_col2\" class=\"data row0 col2\" >nan</td>\n",
       "      <td id=\"T_c61e5_row0_col3\" class=\"data row0 col3\" >-0.316280</td>\n",
       "      <td id=\"T_c61e5_row0_col4\" class=\"data row0 col4\" >-0.990810</td>\n",
       "    </tr>\n",
       "    <tr>\n",
       "      <th id=\"T_c61e5_level0_row1\" class=\"row_heading level0 row1\" >1</th>\n",
       "      <td id=\"T_c61e5_row1_col0\" class=\"data row1 col0\" >2.000000</td>\n",
       "      <td id=\"T_c61e5_row1_col1\" class=\"data row1 col1\" >-1.070816</td>\n",
       "      <td id=\"T_c61e5_row1_col2\" class=\"data row1 col2\" >-1.438713</td>\n",
       "      <td id=\"T_c61e5_row1_col3\" class=\"data row1 col3\" >0.564417</td>\n",
       "      <td id=\"T_c61e5_row1_col4\" class=\"data row1 col4\" >0.295722</td>\n",
       "    </tr>\n",
       "    <tr>\n",
       "      <th id=\"T_c61e5_level0_row2\" class=\"row_heading level0 row2\" >2</th>\n",
       "      <td id=\"T_c61e5_row2_col0\" class=\"data row2 col0\" >3.000000</td>\n",
       "      <td id=\"T_c61e5_row2_col1\" class=\"data row2 col1\" >-1.626404</td>\n",
       "      <td id=\"T_c61e5_row2_col2\" class=\"data row2 col2\" >0.219565</td>\n",
       "      <td id=\"T_c61e5_row2_col3\" class=\"data row2 col3\" >0.678805</td>\n",
       "      <td id=\"T_c61e5_row2_col4\" class=\"data row2 col4\" >1.889273</td>\n",
       "    </tr>\n",
       "    <tr>\n",
       "      <th id=\"T_c61e5_level0_row3\" class=\"row_heading level0 row3\" >3</th>\n",
       "      <td id=\"T_c61e5_row3_col0\" class=\"data row3 col0\" >4.000000</td>\n",
       "      <td id=\"T_c61e5_row3_col1\" class=\"data row3 col1\" >0.961538</td>\n",
       "      <td id=\"T_c61e5_row3_col2\" class=\"data row3 col2\" >0.104011</td>\n",
       "      <td id=\"T_c61e5_row3_col3\" class=\"data row3 col3\" >nan</td>\n",
       "      <td id=\"T_c61e5_row3_col4\" class=\"data row3 col4\" >0.850229</td>\n",
       "    </tr>\n",
       "    <tr>\n",
       "      <th id=\"T_c61e5_level0_row4\" class=\"row_heading level0 row4\" >4</th>\n",
       "      <td id=\"T_c61e5_row4_col0\" class=\"data row4 col0\" >5.000000</td>\n",
       "      <td id=\"T_c61e5_row4_col1\" class=\"data row4 col1\" >1.453425</td>\n",
       "      <td id=\"T_c61e5_row4_col2\" class=\"data row4 col2\" >1.057737</td>\n",
       "      <td id=\"T_c61e5_row4_col3\" class=\"data row4 col3\" >0.165562</td>\n",
       "      <td id=\"T_c61e5_row4_col4\" class=\"data row4 col4\" >0.515018</td>\n",
       "    </tr>\n",
       "    <tr>\n",
       "      <th id=\"T_c61e5_level0_row5\" class=\"row_heading level0 row5\" >5</th>\n",
       "      <td id=\"T_c61e5_row5_col0\" class=\"data row5 col0\" >6.000000</td>\n",
       "      <td id=\"T_c61e5_row5_col1\" class=\"data row5 col1\" >-1.336936</td>\n",
       "      <td id=\"T_c61e5_row5_col2\" class=\"data row5 col2\" >0.562861</td>\n",
       "      <td id=\"T_c61e5_row5_col3\" class=\"data row5 col3\" >1.392855</td>\n",
       "      <td id=\"T_c61e5_row5_col4\" class=\"data row5 col4\" >-0.063328</td>\n",
       "    </tr>\n",
       "    <tr>\n",
       "      <th id=\"T_c61e5_level0_row6\" class=\"row_heading level0 row6\" >6</th>\n",
       "      <td id=\"T_c61e5_row6_col0\" class=\"data row6 col0\" >7.000000</td>\n",
       "      <td id=\"T_c61e5_row6_col1\" class=\"data row6 col1\" >0.121668</td>\n",
       "      <td id=\"T_c61e5_row6_col2\" class=\"data row6 col2\" >1.207603</td>\n",
       "      <td id=\"T_c61e5_row6_col3\" class=\"data row6 col3\" >-0.002040</td>\n",
       "      <td id=\"T_c61e5_row6_col4\" class=\"data row6 col4\" >1.627796</td>\n",
       "    </tr>\n",
       "    <tr>\n",
       "      <th id=\"T_c61e5_level0_row7\" class=\"row_heading level0 row7\" >7</th>\n",
       "      <td id=\"T_c61e5_row7_col0\" class=\"data row7 col0\" >8.000000</td>\n",
       "      <td id=\"T_c61e5_row7_col1\" class=\"data row7 col1\" >0.354493</td>\n",
       "      <td id=\"T_c61e5_row7_col2\" class=\"data row7 col2\" >1.037528</td>\n",
       "      <td id=\"T_c61e5_row7_col3\" class=\"data row7 col3\" >-0.385684</td>\n",
       "      <td id=\"T_c61e5_row7_col4\" class=\"data row7 col4\" >0.519818</td>\n",
       "    </tr>\n",
       "    <tr>\n",
       "      <th id=\"T_c61e5_level0_row8\" class=\"row_heading level0 row8\" >8</th>\n",
       "      <td id=\"T_c61e5_row8_col0\" class=\"data row8 col0\" >9.000000</td>\n",
       "      <td id=\"T_c61e5_row8_col1\" class=\"data row8 col1\" >1.686583</td>\n",
       "      <td id=\"T_c61e5_row8_col2\" class=\"data row8 col2\" >-1.325963</td>\n",
       "      <td id=\"T_c61e5_row8_col3\" class=\"data row8 col3\" >1.428984</td>\n",
       "      <td id=\"T_c61e5_row8_col4\" class=\"data row8 col4\" >-2.089354</td>\n",
       "    </tr>\n",
       "    <tr>\n",
       "      <th id=\"T_c61e5_level0_row9\" class=\"row_heading level0 row9\" >9</th>\n",
       "      <td id=\"T_c61e5_row9_col0\" class=\"data row9 col0\" >10.000000</td>\n",
       "      <td id=\"T_c61e5_row9_col1\" class=\"data row9 col1\" >-0.129820</td>\n",
       "      <td id=\"T_c61e5_row9_col2\" class=\"data row9 col2\" >0.631523</td>\n",
       "      <td id=\"T_c61e5_row9_col3\" class=\"data row9 col3\" >-0.586538</td>\n",
       "      <td id=\"T_c61e5_row9_col4\" class=\"data row9 col4\" >0.290720</td>\n",
       "    </tr>\n",
       "  </tbody>\n",
       "</table>\n"
      ],
      "text/plain": [
       "<pandas.io.formats.style.Styler at 0x7f86a4445eb0>"
      ]
     },
     "execution_count": 34,
     "metadata": {},
     "output_type": "execute_result"
    }
   ],
   "source": [
    "df.style.apply(highlight_max, color='darkorange', axis=None)"
   ]
  },
  {
   "cell_type": "code",
   "execution_count": 12,
   "id": "1376a7e7-2558-43e9-a743-6f199a7918f3",
   "metadata": {},
   "outputs": [
    {
     "ename": "SyntaxError",
     "evalue": "invalid syntax (285081530.py, line 1)",
     "output_type": "error",
     "traceback": [
      "\u001b[0;36m  Input \u001b[0;32mIn [12]\u001b[0;36m\u001b[0m\n\u001b[0;31m    commands:\u001b[0m\n\u001b[0m             ^\u001b[0m\n\u001b[0;31mSyntaxError\u001b[0m\u001b[0;31m:\u001b[0m invalid syntax\n"
     ]
    }
   ],
   "source": [
    "commands:\n",
    "    - remove column\n",
    "    - remove row \n",
    "    "
   ]
  },
  {
   "cell_type": "code",
   "execution_count": null,
   "id": "bf4d6d25-60ab-4b37-9a63-7ecf34b35375",
   "metadata": {},
   "outputs": [],
   "source": []
  },
  {
   "cell_type": "code",
   "execution_count": null,
   "id": "1580166b-36c5-41cd-93c0-e367f906428f",
   "metadata": {},
   "outputs": [],
   "source": []
  },
  {
   "cell_type": "code",
   "execution_count": null,
   "id": "d91a18e2-d9cd-4025-9974-e513836b427f",
   "metadata": {},
   "outputs": [],
   "source": []
  }
 ],
 "metadata": {
  "kernelspec": {
   "display_name": "Python 3 (ipykernel)",
   "language": "python",
   "name": "python3"
  },
  "language_info": {
   "codemirror_mode": {
    "name": "ipython",
    "version": 3
   },
   "file_extension": ".py",
   "mimetype": "text/x-python",
   "name": "python",
   "nbconvert_exporter": "python",
   "pygments_lexer": "ipython3",
   "version": "3.9.12"
  },
  "widgets": {
   "application/vnd.jupyter.widget-state+json": {
    "state": {},
    "version_major": 2,
    "version_minor": 0
   }
  }
 },
 "nbformat": 4,
 "nbformat_minor": 5
}
